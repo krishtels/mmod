{
 "cells": [
  {
   "cell_type": "markdown",
   "id": "0c8f1a1f",
   "metadata": {},
   "source": [
    "### Лабораторная работа 2. "
   ]
  },
  {
   "cell_type": "markdown",
   "id": "a1b8035d",
   "metadata": {},
   "source": [
    "#### Задание 1. ИМИТАЦИЯ НЕПРЕРЫВНЫХ СЛУЧАЙНЫХ ВЕЛИЧИН (МЕТОД ОБРАТНЫХ ФУНКЦИЙ)"
   ]
  },
  {
   "cell_type": "code",
   "execution_count": 8,
   "id": "080b838d",
   "metadata": {},
   "outputs": [],
   "source": [
    "from random import random, uniform\n",
    "from math import erf, log, exp\n",
    "import numpy as np\n",
    "import matplotlib.pyplot as plt\n",
    "from sympy import *\n",
    "from sympy import simplify\n",
    "from sympy.abc import x, y\n",
    "from sympy.calculus.util import continuous_domain\n",
    "from scipy.stats import norm, chi2\n"
   ]
  },
  {
   "cell_type": "code",
   "execution_count": 9,
   "id": "f728d44a",
   "metadata": {},
   "outputs": [],
   "source": [
    "inverse_function = \"\"\n",
    "distribution_expression = \"\"\n",
    "plt.rcParams[\"figure.figsize\"] = (10, 30)\n",
    "number_of_dots = 1000\n",
    "gamma = 0.95 # уровень доверия\n",
    "hypothesis_error_value = 0.05"
   ]
  },
  {
   "cell_type": "markdown",
   "id": "213af841",
   "metadata": {},
   "source": [
    "#### Линейный конгруэнтный метод"
   ]
  },
  {
   "cell_type": "code",
   "execution_count": 3,
   "id": "1848a6a7",
   "metadata": {},
   "outputs": [],
   "source": [
    "# Линейный конгруэнтный метод \n",
    "class CustomGenerator:\n",
    "    seed = 42\n",
    "    alpha = 1664525\n",
    "    c = 1013904223\n",
    "    m = 2 ** 32\n",
    "    x_current = seed\n",
    "    \n",
    "    @staticmethod\n",
    "    def random():\n",
    "        CustomGenerator.x_current = (CustomGenerator.alpha * CustomGenerator.x_current + CustomGenerator.c) % CustomGenerator.m\n",
    "        return CustomGenerator.x_current / CustomGenerator.m"
   ]
  },
  {
   "cell_type": "markdown",
   "id": "eed5734c",
   "metadata": {},
   "source": [
    "#### Поиск обратной функции"
   ]
  },
  {
   "cell_type": "code",
   "execution_count": 4,
   "id": "cee4c81b",
   "metadata": {},
   "outputs": [],
   "source": [
    "def find_inverse_function(input_text): \n",
    "    global inverse_function\n",
    "    ex = sympify(input_text)\n",
    "    distribution_expression = ex\n",
    "    extra = ex - y\n",
    "    results = solve(extra, x)\n",
    "    # print(results)\n",
    "    \n",
    "    is_found = False\n",
    "    for result in results:\n",
    "        is_continuous = continuous_domain(result, y, S.Reals).is_proper_superset(Interval(0, 1))\n",
    "        derivative = diff(result, y)\n",
    "        derivative_positive = solve(derivative > 0, y, domain=S.Reals)\n",
    "        if derivative_positive and is_continuous:\n",
    "            print(f\"Обратная функция: {result}\")\n",
    "            inverse_function = lambdify(y, result)\n",
    "            is_found = True\n",
    "            break\n",
    "\n",
    "    if not is_found:\n",
    "        print(\"обратная функция не найдена\")\n"
   ]
  },
  {
   "cell_type": "markdown",
   "id": "079eff4f",
   "metadata": {},
   "source": [
    "#### Генерация значений"
   ]
  },
  {
   "cell_type": "code",
   "execution_count": 10,
   "id": "38ff8043",
   "metadata": {},
   "outputs": [],
   "source": [
    "generator = CustomGenerator()\n",
    "\n",
    "def generate_func_data(amount):\n",
    "    global inverse_function\n",
    "    data=[]\n",
    "    for i in range(amount):\n",
    "        y = generator.random()\n",
    "        data.append(inverse_function(y))\n",
    "    return data"
   ]
  },
  {
   "cell_type": "markdown",
   "id": "54abb6fd",
   "metadata": {},
   "source": [
    "#### Нахождение матожидайний"
   ]
  },
  {
   "cell_type": "code",
   "execution_count": 11,
   "id": "09788a30",
   "metadata": {},
   "outputs": [],
   "source": [
    "def calculate_sample_mean(sample):\n",
    "    return sum(sample) / len(sample)\n",
    "\n",
    "def calculate_theoretical_mean(func, limits):\n",
    "    return integrate(x * func, (x, limits[0], limits[1]))"
   ]
  },
  {
   "cell_type": "markdown",
   "id": "faee0261",
   "metadata": {},
   "source": [
    "#### Нахождение дисперсий"
   ]
  },
  {
   "cell_type": "code",
   "execution_count": 12,
   "id": "f0135898",
   "metadata": {},
   "outputs": [],
   "source": [
    "def calculate_sample_variance(sample):\n",
    "    sample_mean = calculate_sample_mean(sample)\n",
    "    variance = sum((x - sample_mean) ** 2 for x in sample) / len(sample)\n",
    "    return variance\n",
    "\n",
    "def calculate_theoretical_variance(func, limits, theoretical_mean):\n",
    "    integral = integrate(x ** 2 * func, (x, limits[0], limits[1]))\n",
    "    theoretical_variance = integral - theoretical_mean ** 2\n",
    "    return theoretical_variance.evalf()"
   ]
  },
  {
   "cell_type": "code",
   "execution_count": 13,
   "id": "2f481731",
   "metadata": {},
   "outputs": [],
   "source": [
    "# confidence interval\n",
    "def get_delta(offset):\n",
    "    t = norm.ppf(gamma / 2 + 0.5) # квантили\n",
    "    return t * offset / np.sqrt(number_of_tests) # Margin of Error\n",
    "\n",
    "def get_offset_delta(test_offset): # build confidence level (хи квадрат)\n",
    "    alphas = ((1 - gamma) / 2, (1 + gamma) / 2)\n",
    "    chis = (chi2.isf(alphas, number_of_tests - 1))\n",
    "    temp = np.sqrt(number_of_tests - 1) * test_offset\n",
    "    \n",
    "    return (temp / np.sqrt(chis[0]), temp / np.sqrt(chis[1]))"
   ]
  },
  {
   "cell_type": "markdown",
   "id": "1018d2ac",
   "metadata": {},
   "source": [
    "#### Непрерывная случайная величина"
   ]
  },
  {
   "cell_type": "code",
   "execution_count": 16,
   "id": "7e2f4d5c",
   "metadata": {},
   "outputs": [
    {
     "name": "stdout",
     "output_type": "stream",
     "text": [
      "Your function:\n",
      "x**2-1\n",
      "Обратная функция: sqrt(y + 1)\n"
     ]
    }
   ],
   "source": [
    "func = input(\"Your function:\\n\")\n",
    "find_inverse_function(func)\n"
   ]
  },
  {
   "cell_type": "code",
   "execution_count": 17,
   "id": "13059bcf",
   "metadata": {},
   "outputs": [
    {
     "name": "stdout",
     "output_type": "stream",
     "text": [
      "Amount of random values:\n",
      "10000\n"
     ]
    }
   ],
   "source": [
    "number_of_tests = int(input(\"Amount of random values:\\n\"))\n",
    "\n",
    "func_data = generate_func_data(number_of_tests)\n",
    "\n",
    "limits = (inverse_function(0), inverse_function(1))"
   ]
  },
  {
   "cell_type": "code",
   "execution_count": 18,
   "id": "963147bd",
   "metadata": {},
   "outputs": [],
   "source": [
    "ex = simplify(func)\n",
    "derivate = diff(ex, x)\n",
    "\n",
    "sample_mean = calculate_sample_mean(func_data) \n",
    "sample_variance = calculate_sample_variance(func_data) \n",
    "sample_std_deviation = sqrt(sample_variance)\n",
    "\n",
    "theoretical_mean = calculate_theoretical_mean(derivate, limits)\n",
    "theoretical_variance = calculate_theoretical_variance(derivate, limits, theoretical_mean)\n",
    "theoretical_std_deviation = sqrt(theoretical_variance)"
   ]
  },
  {
   "cell_type": "code",
   "execution_count": 19,
   "id": "d571ed69",
   "metadata": {},
   "outputs": [
    {
     "name": "stdout",
     "output_type": "stream",
     "text": [
      "1.2205488794578985\n",
      "0.014353322379243218\n",
      "0.119805352047574\n",
      "1.21895141649746\n",
      "0.0141574442188346\n",
      "0.118985058805022\n"
     ]
    }
   ],
   "source": [
    "print(sample_mean)\n",
    "print(sample_variance)\n",
    "print(sample_std_deviation)\n",
    "\n",
    "print(theoretical_mean)\n",
    "print(theoretical_variance)\n",
    "print(theoretical_std_deviation)"
   ]
  },
  {
   "cell_type": "code",
   "execution_count": 20,
   "id": "b3d96b85",
   "metadata": {},
   "outputs": [
    {
     "data": {
      "image/png": "[encoded data removed]",
      "text/plain": [
       "<Figure size 1000x3000 with 2 Axes>"
      ]
     },
     "metadata": {},
     "output_type": "display_data"
    }
   ],
   "source": [
    "hist, bins = np.histogram(func_data, bins=number_of_dots, range=limits)\n",
    "plt.subplot(6, 1, 1)  \n",
    "plt.tight_layout(pad = 5)\n",
    "plt.hist(x=func_data, color=\"red\", bins=number_of_dots, range=limits)\n",
    "plt.xlim(limits)\n",
    "plt.title(\"Плотность распределения\")\n",
    "    \n",
    "\n",
    "# building derivate plot\n",
    "derivative_expr = diff(ex, x)\n",
    "    \n",
    "length = (limits[1] - limits[0]) / number_of_dots # step\n",
    "dots = np.arange(limits[0] + length / 2, limits[1], length)\n",
    "derivative = lambdify(x, length * number_of_tests * derivative_expr)\n",
    "results = list(map(derivative, dots))\n",
    "plt.plot(dots, results, marker=11, color=\"black\")\n",
    "    \n",
    "# гистограмма накопленных частот\n",
    "extra_hist = hist.copy()\n",
    "    \n",
    "for i in range(1, len(hist)):\n",
    "    extra_hist[i] += extra_hist[i-1]\n",
    "        \n",
    "plt.subplot(6, 1, 2)\n",
    "ax = plt.gca()\n",
    "ax.bar(bins[:-1], extra_hist, width = length, align=\"edge\", color='red')\n",
    "\n",
    "distribution_function = lambdify(x, number_of_tests * ex)\n",
    "distribution_dots = np.arange(limits[0] + length, limits[1] + length / 10, length)\n",
    "distribution_results = list(map(distribution_function, distribution_dots))\n",
    "    \n",
    "plt.plot(distribution_dots, distribution_results, marker=11, color=\"black\")\n",
    "plt.title(\"Функция распределения\")\n",
    "plt.show()"
   ]
  },
  {
   "cell_type": "code",
   "execution_count": 21,
   "id": "9c30ffcd",
   "metadata": {},
   "outputs": [],
   "source": [
    "delta = get_delta(theoretical_std_deviation)\n",
    "offset_delta = get_offset_delta(sample_std_deviation)"
   ]
  },
  {
   "cell_type": "code",
   "execution_count": 22,
   "id": "b412b324",
   "metadata": {},
   "outputs": [
    {
     "data": {
      "text/html": [
       "<table><tr><td><h4>Опиcание</h4></td><td><h4>Мат ожидание</h4></td><td><h4>Дисперсия</h4></td></tr><tr><td><h4>Выборочно</h4></td><td><h4>1.2205488794578985</h4></td><td><h4>0.014353322379243218</h4></td></tr><tr><td><h4>Теоретическое</h4></td><td><h4>1.21895141649746</h4></td><td><h4>0.0141574442188346</h4></td></tr><tr><td><h4>Доверительный интервал начало</h4></td><td><h4>1.21821681515834</h4></td><td><h4>0.0139636197738275</h4></td></tr><tr><td><h4>Доверительный интервал конец</h4></td><td><h4>1.22288094375746</h4></td><td><h4>0.0147596485559037</h4></td></tr></table>"
      ],
      "text/plain": [
       "<IPython.core.display.HTML object>"
      ]
     },
     "metadata": {},
     "output_type": "display_data"
    }
   ],
   "source": [
    "from IPython.display import HTML, display\n",
    "\n",
    "val = np.square(offset_delta)\n",
    "\n",
    "def display_table(data):\n",
    "    html = \"<table>\"\n",
    "    for row in data:\n",
    "        html += \"<tr>\"\n",
    "        for field in row:\n",
    "            html += \"<td><h4>%s</h4></td>\" % (field)\n",
    "        html += \"</tr>\"\n",
    "    html += \"</table>\"\n",
    "    display(HTML(html))\n",
    "\n",
    "\n",
    "data = [['Опиcание', 'Мат ожидание', 'Дисперсия'],\n",
    "        ['Выборочно', sample_mean, sample_variance],\n",
    "        ['Теоретическое', theoretical_mean, theoretical_variance],\n",
    "        ['Доверительный интервал начало', sample_mean-delta,val[0]],\n",
    "        ['Доверительный интервал конец',sample_mean+delta,val[1]]]\n",
    "\n",
    "display_table(data)"
   ]
  },
  {
   "cell_type": "code",
   "execution_count": 23,
   "id": "15b9bc61",
   "metadata": {},
   "outputs": [],
   "source": [
    "k = number_of_dots - 2 - 1 # число степеней свободы\n",
    "critical_value = chi2.isf(hypothesis_error_value, k)\n",
    "normal_value = 0\n",
    "    \n",
    "for i in range(number_of_dots):\n",
    "    normal_value += np.square(hist[i] - results[i]) / results[i]"
   ]
  },
  {
   "cell_type": "code",
   "execution_count": 24,
   "id": "f9d2cd89",
   "metadata": {
    "scrolled": true
   },
   "outputs": [
    {
     "data": {
      "text/html": [
       "<table><tr><td><h4>Описание</h4></td><td><h4>Значение</h4></td></tr><tr><td><h4>Критический кси-квадрат</h4></td><td><h4>1071.568999044425</h4></td></tr><tr><td><h4>Кси-квадрат выборки</h4></td><td><h4>963.7536957800464</h4></td></tr><tr><td><h4>Гипотезу согласия</h4></td><td><h4>принимаем</h4></td></tr></table>"
      ],
      "text/plain": [
       "<IPython.core.display.HTML object>"
      ]
     },
     "metadata": {},
     "output_type": "display_data"
    }
   ],
   "source": [
    "result_for_print = \"принимаем\" if normal_value < critical_value else \"отвергаем\"\n",
    "data1 = [['Описание', 'Значение'],\n",
    "         [\"Критический кси-квадрат\",critical_value],\n",
    "         [\"Кси-квадрат выборки\",normal_value],\n",
    "         [\"Гипотезу согласия\",result_for_print]]\n",
    "\n",
    "display_table(data1)\n",
    "    "
   ]
  },
  {
   "cell_type": "markdown",
   "id": "8e65abbb",
   "metadata": {},
   "source": [
    "#### Задание 2. ИМИТАЦИЯ ДИСКРЕТНЫХ СЛУЧАЙНЫХ ВЕЛИЧИН (с заданным законом распределения)"
   ]
  },
  {
   "cell_type": "code",
   "execution_count": 40,
   "id": "2ed3f53f",
   "metadata": {},
   "outputs": [],
   "source": [
    "inverse_function = \"\"\n",
    "distribution_expression = \"\"\n",
    "plt.rcParams[\"figure.figsize\"] = (10, 30)\n",
    "max_value1 = 40\n",
    "gamma1 = 0.95\n",
    "number_of_dots1 = 20\n",
    "hypothesis_error_value1 = 0.05"
   ]
  },
  {
   "cell_type": "code",
   "execution_count": 33,
   "id": "e76af126",
   "metadata": {},
   "outputs": [],
   "source": [
    "# случайное количество попыток до первого успеха в соответствии\n",
    "# с геометрическим распределением\n",
    "\n",
    "generator1 = CustomGenerator()\n",
    "\n",
    "\n",
    "def get_random1():\n",
    "    random_number = generator1.random()\n",
    "    \n",
    "    for i in range(max_value1):\n",
    "        probability = p_prob1 * (1 - p_prob1) ** i # геометрическое распределение\n",
    "        \n",
    "        if random_number < probability:\n",
    "            return i + 1\n",
    "        \n",
    "        random_number -= probability\n",
    "        \n",
    "    return max_value1"
   ]
  },
  {
   "cell_type": "code",
   "execution_count": 34,
   "id": "28d00819",
   "metadata": {},
   "outputs": [],
   "source": [
    "def get_random_data():\n",
    "    result = []\n",
    "    \n",
    "    for i in range(number_of_tests1):\n",
    "        result.append(get_random1())\n",
    "    \n",
    "    return result"
   ]
  },
  {
   "cell_type": "code",
   "execution_count": 35,
   "id": "44796627",
   "metadata": {},
   "outputs": [],
   "source": [
    "def get_mean(data):\n",
    "    return sum(data) / number_of_tests1\n",
    "\n",
    "def get_theoretical_mean():\n",
    "    return 1 / p_prob1"
   ]
  },
  {
   "cell_type": "code",
   "execution_count": 36,
   "id": "bd364415",
   "metadata": {},
   "outputs": [],
   "source": [
    "def get_theoretical_variance():\n",
    "    return (1 - p_prob1) / np.square(p_prob1)\n",
    "\n",
    "def get_variance(data, mean):\n",
    "    result = 0\n",
    "    \n",
    "    for item in data:\n",
    "        result += (item - mean) ** 2\n",
    "        \n",
    "    return result / number_of_tests1\n"
   ]
  },
  {
   "cell_type": "code",
   "execution_count": 37,
   "id": "a6f7fffa",
   "metadata": {},
   "outputs": [],
   "source": [
    "def get_delta1(offset):\n",
    "    t = norm.ppf(gamma1 / 2 + 0.5)\n",
    "    return t * offset / np.sqrt(number_of_tests1)\n",
    "\n",
    "def get_offset_delta1(test_offset):\n",
    "    alphas = ((1 - gamma1) / 2, (1 + gamma1) / 2)\n",
    "    chis = (chi2.isf(alphas, number_of_tests1 - 1))\n",
    "    corrected_offset = sqrt((test_offset ** 2) * number_of_tests1 / (number_of_tests1 - 1))\n",
    "    temp = np.sqrt(number_of_tests1 - 1) * corrected_offset\n",
    "    \n",
    "    return (temp / np.sqrt(chis[0]), temp / np.sqrt(chis[1]))\n"
   ]
  },
  {
   "cell_type": "code",
   "execution_count": 38,
   "id": "514d9b76",
   "metadata": {},
   "outputs": [
    {
     "name": "stdout",
     "output_type": "stream",
     "text": [
      "Введите количество значений, которые будут сгенерированы:\n",
      "10000\n",
      "Введите вероятность:\n",
      "0.25\n"
     ]
    }
   ],
   "source": [
    "number_of_tests1 = int(input(\"Введите количество значений, которые будут сгенерированы:\\n\"))\n",
    "p_prob1 = float(input(\"Введите вероятность:\\n\"))"
   ]
  },
  {
   "cell_type": "code",
   "execution_count": 41,
   "id": "15f60a3a",
   "metadata": {},
   "outputs": [],
   "source": [
    "data = get_random_data()\n",
    "mean = get_mean(data)\n",
    "theor_mean = get_theoretical_mean()\n",
    "variance = get_variance(data, mean)\n",
    "teoretical_variance = get_theoretical_variance()\n",
    "standard_deviation1 = sqrt(variance)\n",
    "theoretical_standard_deviation1 = sqrt(theoretical_variance)\n",
    "deltaone = get_delta1(theoretical_standard_deviation1)\n",
    "offset_delta1 = get_offset_delta1(standard_deviation1)"
   ]
  },
  {
   "cell_type": "code",
   "execution_count": 42,
   "id": "b0c88cea",
   "metadata": {},
   "outputs": [
    {
     "data": {
      "image/png": "[encoded data removed]",
      "text/plain": [
       "<Figure size 1000x3000 with 1 Axes>"
      ]
     },
     "metadata": {},
     "output_type": "display_data"
    }
   ],
   "source": [
    "limits = (0.5, max_value1 + 0.5)\n",
    "hist, bins = np.histogram(data, bins=number_of_dots1, range=limits)\n",
    "\n",
    "length = max_value1 / number_of_dots1\n",
    "dots = np.arange(0.5 * (length + 1), max_value1 + length / 2, length)\n",
    "derivative = lambdify(x, integrate(number_of_tests1 * p_prob1 * ((1 - p_prob1) ** (x - 1)), (x, x - length / 2, x + length / 2)))\n",
    "results = list(map(derivative, dots))\n",
    "\n",
    "plt.subplot(6, 1, 2)\n",
    "        \n",
    "extra_hist = hist.copy()\n",
    "    \n",
    "for i in range(1, len(hist)):\n",
    "    extra_hist[i] += extra_hist[i-1]\n",
    "    \n",
    "ax = plt.gca()\n",
    "ax.bar(bins[:-1], extra_hist, width = length,  color = \"green\")\n",
    "plt.xlim(limits)\n",
    "    \n",
    "distribution_function = lambdify(x, number_of_tests1 * (1 - (1 - p_prob1) ** x))\n",
    "distribution_dots = np.arange(limits[0] + length, limits[1] + length / 10, length)\n",
    "    \n",
    "distribution_results = list(map(distribution_function, distribution_dots))\n",
    "plt.plot(distribution_dots, distribution_results, marker=11, color=\"black\")\n",
    "plt.title(\"Функция распределения\")\n",
    "plt.show()"
   ]
  },
  {
   "cell_type": "code",
   "execution_count": 43,
   "id": "15981eae",
   "metadata": {},
   "outputs": [],
   "source": [
    "k = number_of_dots1 - 2 - 1\n",
    "critical_value = chi2.isf(hypothesis_error_value1, k)\n",
    "normal_value = 0\n",
    "    \n",
    "for i in range(number_of_dots1):\n",
    "    normal_value += np.square(hist[i] - results[i]) / results[i]\n",
    "    "
   ]
  },
  {
   "cell_type": "code",
   "execution_count": 44,
   "id": "3636e5dd",
   "metadata": {},
   "outputs": [
    {
     "data": {
      "text/html": [
       "<table><tr><td><h4>Опиcание</h4></td><td><h4>Математическое ожидание</h4></td><td><h4>Дисперсия</h4></td></tr><tr><td><h4>Выборочно</h4></td><td><h4>4.014</h4></td><td><h4>12.327603999999777</h4></td></tr><tr><td><h4>Теоретическое</h4></td><td><h4>4.0</h4></td><td><h4>12.0</h4></td></tr><tr><td><h4>Доверительный начало</h4></td><td><h4>4.00938032058550</h4></td><td><h4>11.9941004562345</h4></td></tr><tr><td><h4>Доверительный конец</h4></td><td><h4>4.01861967941450</h4></td><td><h4>12.6778521862960</h4></td></tr></table>"
      ],
      "text/plain": [
       "<IPython.core.display.HTML object>"
      ]
     },
     "metadata": {},
     "output_type": "display_data"
    }
   ],
   "source": [
    "from IPython.display import HTML, display\n",
    "\n",
    "val = np.square(offset_delta1)\n",
    "\n",
    "def display_table(data):\n",
    "    html = \"<table>\"\n",
    "    for row in data:\n",
    "        html += \"<tr>\"\n",
    "        for field in row:\n",
    "            html += \"<td><h4>%s</h4></td>\" % (field)\n",
    "        html += \"</tr>\"\n",
    "    html += \"</table>\"\n",
    "    display(HTML(html))\n",
    "\n",
    "\n",
    "data = [['Опиcание', 'Математическое ожидание', 'Дисперсия'],\n",
    "        ['Выборочно', mean, variance],\n",
    "        ['Теоретическое', theor_mean, teoretical_variance],\n",
    "        ['Доверительный начало', mean-deltaone,val[0]],\n",
    "        ['Доверительный конец',mean+deltaone,val[1]]]\n",
    "display_table(data)"
   ]
  },
  {
   "cell_type": "code",
   "execution_count": 45,
   "id": "11cf7f5f",
   "metadata": {},
   "outputs": [
    {
     "data": {
      "text/html": [
       "<table><tr><td><h4>Описание</h4></td><td><h4>Значение</h4></td></tr><tr><td><h4>Критический кси-квадрат</h4></td><td><h4>27.587111638275335</h4></td></tr><tr><td><h4>Кси-квадрат выборки</h4></td><td><h4>13.007858603732739</h4></td></tr><tr><td><h4>Гипотезу согласия</h4></td><td><h4>принимаем</h4></td></tr></table>"
      ],
      "text/plain": [
       "<IPython.core.display.HTML object>"
      ]
     },
     "metadata": {},
     "output_type": "display_data"
    }
   ],
   "source": [
    "result_for_print = \"принимаем\" if normal_value < critical_value else \"отвергаем\"\n",
    "data1 = [['Описание', 'Значение'],\n",
    "         [\"Критический кси-квадрат\",critical_value],\n",
    "         [\"Кси-квадрат выборки\",normal_value],\n",
    "         [\"Гипотезу согласия\",result_for_print]]\n",
    "\n",
    "display_table(data1)\n",
    "    "
   ]
  }
 ],
 "metadata": {
  "kernelspec": {
   "display_name": "Python 3 (ipykernel)",
   "language": "python",
   "name": "python3"
  },
  "language_info": {
   "codemirror_mode": {
    "name": "ipython",
    "version": 3
   },
   "file_extension": ".py",
   "mimetype": "text/x-python",
   "name": "python",
   "nbconvert_exporter": "python",
   "pygments_lexer": "ipython3",
   "version": "3.10.12"
  }
 },
 "nbformat": 4,
 "nbformat_minor": 5
}
