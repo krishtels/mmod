{
 "cells": [
  {
   "cell_type": "markdown",
   "id": "46b00237",
   "metadata": {},
   "source": [
    "### Лабораторная работа 4. СМО\n",
    "Имеется n-канальная СМО с неограниченной очередью. На ее вход поступает простейший поток заявок с интенсивностью X; время обслуживания — показательное с параметром Х. Обслуживание происходит без гарантии качества; с вероятностью р оно удовлетворяет заявку, а с вероятностью q = 1 — р — не удовлетворяет, и заявка обращается в СМО вторично и либо сразу обслуживается, если нет очереди, либо становится в очередь, если она есть. Ввести состояния СМО (нумеруя их по числу заявок в СМО); найти финальные вероятности состояний и характеристики эффективности СМО. Найти среднее число рекламаций, поданных в единицу времени, если каждая неудачно обслуженная заявка подает рекламацию с вероятностью R."
   ]
  },
  {
   "cell_type": "markdown",
   "id": "50582f08",
   "metadata": {},
   "source": [
    "Интенсивность: $\\lambda$ = X  <br>\n",
    "Время обслуживания - показательное распределение с параметром X. <br>$\\mu$ = X, => среднее время обслуживания 1 / X"
   ]
  },
  {
   "cell_type": "markdown",
   "id": "c37f0f36",
   "metadata": {},
   "source": [
    "## Решение\n",
    "$s_0$ - СМО свободна <br/>\n",
    "$s_1$ - занят один канал <br/>\n",
    "$s_k$ - занято k каналов (1 <= k <= n) <br/>\n",
    "$s_n$ - заняты все n каналов <br/>\n",
    "$s_{n+r}$ - заняты все n каналов, а r заявок стоит в очереди <br/>\n",
    "Граф состояний приведен ниже\n",
    "![](state_graph.png)\n",
    "где интенсивность потока обслуживаний $\\widetilde{\\mu} = p\\mu$ = pX <br/>\n",
    "Тогда $\\widetilde{p}$ = $\\lambda$ / $\\widetilde{\\mu}$ = $\\lambda$ / $p\\mu$ = X / pX = 1 / p <br/>\n",
    "Условие установления предельного стационарного режима: $\\widetilde{p}$ <= n (выберем значение. n подходящим под данное условие)"
   ]
  },
  {
   "cell_type": "markdown",
   "id": "9d5d08fe",
   "metadata": {},
   "source": [
    "##  Финальные вероятности состояний\n",
    "Финальные вероятности состояний выражаются следующими формулами\n",
    "![](final_probabilities.png)\n",
    "p -> $\\widetilde{p}$ = 1 / p <br/> $\\chi$ = $\\widetilde{p}$ / n = 1 / np"
   ]
  },
  {
   "cell_type": "markdown",
   "id": "cfc13f1c",
   "metadata": {},
   "source": [
    "### Найдем вероятности состояния системы:\n",
    "\n"
   ]
  },
  {
   "cell_type": "code",
   "execution_count": 1,
   "id": "63fdc357",
   "metadata": {},
   "outputs": [],
   "source": [
    "import math\n",
    "\n",
    "p = 0.7 # probability of accept\n",
    "n = 6\n",
    "X = 3 # интесивность входящего\n",
    "Y = 1 # интесивность обслуживания\n",
    "p_tilde = X / (p* Y)\n",
    "chi = p_tilde / n\n",
    "\n",
    "def p_0(p_tilde, chi, n):\n",
    "    result = 1\n",
    "    for i in range(1, n + 1):\n",
    "        result += (p_tilde ** i / math.factorial(i))\n",
    "    result += (p_tilde ** (n + 1) / (n * math.factorial(n))) * (1 / (1 - chi))\n",
    "    return 1 / result\n",
    "    \n",
    "def p_k(p_tilde, k, p_0):\n",
    "    return p_tilde ** k * p_0 / math.factorial(k)\n",
    "\n",
    "def p_n_r(p_tilde, n, r, p_0):\n",
    "    return p_tilde ** (n + r) * p_0 / (n ** r * math.factorial(n))\n",
    "    \n",
    "\n",
    "def calculate_probabilities(p_tilde, chi, n, size):\n",
    "    if(size < n):\n",
    "        print('Размер должен быть > n')\n",
    "        return\n",
    "    p_list = []\n",
    "    _p_0 = p_0(p_tilde, chi, n)\n",
    "    p_list.append(_p_0)\n",
    "    for k in range(1, n + 1):\n",
    "        p_list.append(p_k(p_tilde, k, _p_0))\n",
    "    for r in range(1, size - n + 1):\n",
    "        p_list.append(p_n_r(p_tilde, n, r, _p_0))\n",
    "    return p_list"
   ]
  },
  {
   "cell_type": "code",
   "execution_count": 2,
   "id": "f3317037",
   "metadata": {},
   "outputs": [
    {
     "name": "stdout",
     "output_type": "stream",
     "text": [
      "chi 0.7142857142857143\n",
      "p[0] :  0.011930968341441356\n",
      "p[1] :  0.0511327214633201\n",
      "p[2] :  0.1095701174214002\n",
      "p[3] :  0.15652873917342888\n",
      "p[4] :  0.16770936340010234\n",
      "p[5] :  0.14375088291437343\n",
      "p[6] :  0.10267920208169531\n",
      "p[7] :  0.07334228720121094\n",
      "p[8] :  0.05238734800086495\n",
      "p[9] :  0.0374195342863321\n",
      "p[10] :  0.026728238775951502\n",
      "p[11] :  0.01909159912567964\n",
      "sum : 0.9659078587041434\n"
     ]
    }
   ],
   "source": [
    "size = 12\n",
    "print(f'chi {chi}')\n",
    "if chi <= 1:\n",
    "    p_list = calculate_probabilities(p_tilde, chi, n, size)\n",
    "    for i in range(size):\n",
    "        print(f'p[{i}] :  {p_list[i]}')\n",
    "    print(f'sum : {sum(p_list)}')\n",
    "else:\n",
    "    print('Условие установления предельного страционарного режима не выполнено')"
   ]
  },
  {
   "cell_type": "markdown",
   "id": "4ff91211",
   "metadata": {},
   "source": [
    "##  Характеристики эффективности СМО"
   ]
  },
  {
   "cell_type": "markdown",
   "id": "1fd1d812",
   "metadata": {},
   "source": [
    "Среднее число ожидающих заявок\n",
    "<br/>\n",
    "![](moz.png)\n",
    "<br/>\n",
    "Среднее число заявок в системе\n",
    "<br/>\n",
    "![](m.png)"
   ]
  },
  {
   "cell_type": "code",
   "execution_count": 3,
   "id": "62df9b9a",
   "metadata": {},
   "outputs": [
    {
     "name": "stdout",
     "output_type": "stream",
     "text": [
      "Вероятность отказа: P(отк) = 0, т.к. неограниченная очередь\n",
      "Среднее число заявок в очереди:  1.9102028593544873\n",
      "Среднее число заявок в системе:  4.655729113843343\n",
      "Среднее число заявок в обслуживании :  2.7455262544888557\n",
      "\n",
      "Среднее число занятых каналов:  4.081161437939146\n",
      "Среднее число свободных каналов:  1.918838562060854\n",
      "Коэффициент загрузки:  0.6801935729898577\n",
      "Коэффициент простоя:  0.31980642701014234\n"
     ]
    }
   ],
   "source": [
    "def m_waiting(n, p_list):\n",
    "    m = 0\n",
    "    for i in range(n + 1, len(p_list)):\n",
    "        m += i * p_list[i]\n",
    "    return m\n",
    "        \n",
    "def m_all(n, p_list):\n",
    "    m = 0\n",
    "    for i in range(len(p_list)):\n",
    "        m += i * p_list[i]\n",
    "    return m\n",
    "\n",
    "def mean_busy_channels(n, p_list):\n",
    "    m = 0\n",
    "    for i in range(n + 1):\n",
    "        m += i * p_list[i]\n",
    "    for i in range(n + 1, len(p_list)):\n",
    "        m += n * p_list[i]\n",
    "    return m\n",
    "\n",
    "def mean_free_channels(n, p_list):\n",
    "    return n - mean_busy_channels(n, p_list)\n",
    "\n",
    "print('Вероятность отказа: P(отк) = 0, т.к. неограниченная очередь')\n",
    "print('Среднее число заявок в очереди: ', m_waiting(n, p_list))\n",
    "print('Среднее число заявок в системе: ', m_all(n, p_list))\n",
    "print('Среднее число заявок в обслуживании : ', m_all(n, p_list) - m_waiting(n, p_list))\n",
    "print()\n",
    "print('Среднее число занятых каналов: ', mean_busy_channels(n, p_list))\n",
    "print('Среднее число свободных каналов: ', mean_free_channels(n, p_list))\n",
    "print('Коэффициент загрузки: ', mean_busy_channels(n, p_list) / n)\n",
    "print('Коэффициент простоя: ', mean_free_channels(n, p_list) / n)"
   ]
  },
  {
   "cell_type": "markdown",
   "id": "a9db4fb9",
   "metadata": {},
   "source": [
    "#### Среднее время ожидания в системе"
   ]
  },
  {
   "cell_type": "code",
   "execution_count": 4,
   "id": "613d1b97",
   "metadata": {},
   "outputs": [
    {
     "name": "stdout",
     "output_type": "stream",
     "text": [
      "Среднее время обслуживания заявки:  0.3333333333333333\n",
      "Среднее время нахождения в очереди:  0.6367342864514958\n",
      "Среднее время нахождения в системе:  0.970067619784829\n"
     ]
    }
   ],
   "source": [
    "mean_t = 1 / X\n",
    "print('Среднее время обслуживания заявки: ', mean_t)\n",
    "print('Среднее время нахождения в очереди: ', mean_t * m_waiting(n, p_list))\n",
    "print('Среднее время нахождения в системе: ', mean_t + mean_t * m_waiting(n, p_list))"
   ]
  },
  {
   "cell_type": "markdown",
   "id": "e359705c",
   "metadata": {},
   "source": [
    "##  Среднее число рекламаций"
   ]
  },
  {
   "cell_type": "code",
   "execution_count": 6,
   "id": "87817b17",
   "metadata": {},
   "outputs": [
    {
     "name": "stdout",
     "output_type": "stream",
     "text": [
      "Среднее число рекламаций за единицу времени:  0.24709736290399703\n"
     ]
    }
   ],
   "source": [
    "complaint_rate = 0.3\n",
    "mean_current_claims = m_all(n, p_list) - m_waiting(n, p_list)\n",
    "mean_complaint_number = mean_current_claims * (1 - p) * complaint_rate\n",
    "print('Среднее число рекламаций за единицу времени: ', mean_complaint_number)"
   ]
  },
  {
   "cell_type": "markdown",
   "id": "e8a57a35",
   "metadata": {},
   "source": [
    "##  Моделирование СМО"
   ]
  },
  {
   "cell_type": "code",
   "execution_count": 10,
   "id": "b6ae085d",
   "metadata": {},
   "outputs": [],
   "source": [
    "import random\n",
    "import numpy as np\n",
    "\n",
    "\n",
    "class Claim:\n",
    "    def __init__(self):\n",
    "        self.time_in_system = 0\n",
    "        self.time_in_queue = 0\n",
    "        self.time_in_processing = 0\n",
    "        self.complaint_number = 0\n",
    "        \n",
    "class Channel:\n",
    "    def __init__(self):\n",
    "        self.is_free = True\n",
    "        self.time_to_solve_remaining = 0\n",
    "\n",
    "class QueuingSystemGenerator: \n",
    "    def __init__(self, n, probability, X, Y, R, size_of_probabilities):\n",
    "        self.probability = probability\n",
    "        self.n = n\n",
    "        self.channels = [Channel() for i in range(n)]\n",
    "        self.claims = []\n",
    "        self.X = X\n",
    "        self.Y = Y\n",
    "        self.time_discreteness = 100\n",
    "        self.time_step = 1 / self.time_discreteness\n",
    "        self.processedClaims = []\n",
    "        self.complaint_prob = R\n",
    "        self.size_of_probabilities = size_of_probabilities\n",
    "        self.channel_probabilities = [0 for i in range(size_of_probabilities)]\n",
    "        \n",
    "    def rand_is_claim_accepted(self):\n",
    "        return random.random() < self.probability\n",
    "    \n",
    "    def rand_claim_resolve_time(self):\n",
    "        return np.random.exponential(1 / self.Y)\n",
    "        \n",
    "    def rand_new_claim_comming(self):\n",
    "        return random.random() < self.X / self.time_discreteness\n",
    "    \n",
    "    def rand_is_complaint(self):\n",
    "        return random.random() < self.complaint_prob\n",
    "        \n",
    "    def busy_channels_count(self):\n",
    "        count = 0\n",
    "        for i in range(len(self.channels)):\n",
    "            if self.channels[i].is_free == False:\n",
    "                count += 1\n",
    "        return count\n",
    "    \n",
    "    def simulate_coming_claims(self):\n",
    "        has_come = self.rand_new_claim_comming()\n",
    "        if has_come:\n",
    "            self.claims.append(Claim())\n",
    "            \n",
    "    def simulate_claim_to_free_channels(self):\n",
    "        for i in range(len(self.channels)):\n",
    "            if self.channels[i].is_free:\n",
    "                if len(self.claims) == 0:\n",
    "                    break\n",
    "                self.channels[i].solving_claim = self.claims.pop()\n",
    "                self.channels[i].is_free = False\n",
    "                self.channels[i].time_to_solve_remaining += self.rand_claim_resolve_time()\n",
    "                \n",
    "\n",
    "    def simulate_process_claims(self):\n",
    "        for i in range(len(self.claims)):\n",
    "            self.claims[i].time_in_queue += self.time_step\n",
    "            \n",
    "        for i in range(len(self.channels)):\n",
    "            if self.channels[i].is_free == False:\n",
    "                claim = self.channels[i].solving_claim\n",
    "                if self.channels[i].time_to_solve_remaining > 0:\n",
    "                    self.channels[i].time_to_solve_remaining -= self.time_step\n",
    "                    claim.time_in_processing += self.time_step\n",
    "                else:\n",
    "                    self.channels[i].is_free = True\n",
    "                    self.time_to_solve_remaining = 0\n",
    "                    is_claim_accepted = self.rand_is_claim_accepted()\n",
    "                    if is_claim_accepted:\n",
    "                        self.processedClaims.append(claim)\n",
    "                    else: \n",
    "                        self.claims.append(claim)\n",
    "                        if self.rand_is_complaint():\n",
    "                            claim.complaint_number += 1\n",
    "                            \n",
    "    \n",
    "    def next_time_step(self):\n",
    "        # 1) step where claims are coming to the system\n",
    "        self.simulate_coming_claims()\n",
    "        # 2) step where claims are coming from queue to channel\n",
    "        self.simulate_claim_to_free_channels()\n",
    "        # 3) step where claims are processing in channel\n",
    "        self.simulate_process_claims()\n",
    "        \n",
    "    def run_simulation(self, time_units):\n",
    "        avg_busy_channels = 0\n",
    "        for i in range(time_units * self.time_discreteness):\n",
    "            self.next_time_step()\n",
    "            busy_channels = self.busy_channels_count()\n",
    "            avg_busy_channels = (avg_busy_channels * i + busy_channels) / ( i + 1)\n",
    "            \n",
    "            if busy_channels == n:\n",
    "                claims_in_queue = len(self.claims)\n",
    "                busy_channels += claims_in_queue\n",
    "            if busy_channels < self.size_of_probabilities:\n",
    "                self.channel_probabilities[busy_channels] += 1\n",
    "                \n",
    "        print('Среднее количество занятых каналов: ' , avg_busy_channels)\n",
    "        self.channel_probabilities = [self.channel_probabilities[i] / (time_units * self.time_discreteness) for i in range(len(self.channel_probabilities))]\n",
    "        return self.channel_probabilities"
   ]
  },
  {
   "cell_type": "code",
   "execution_count": 8,
   "id": "01a70f5f",
   "metadata": {},
   "outputs": [
    {
     "name": "stdout",
     "output_type": "stream",
     "text": [
      "Среднее количество занятых каналов:  4.055599999999987\n"
     ]
    }
   ],
   "source": [
    "R = 0.3\n",
    "size_of_probabilities = 13\n",
    "\n",
    "generator = QueuingSystemGenerator(n, p, X, Y, R, size_of_probabilities)\n",
    "channel_probabilities = generator.run_simulation(1000)"
   ]
  },
  {
   "cell_type": "markdown",
   "id": "a3dc68e1",
   "metadata": {},
   "source": [
    "### Сравнение аналитических результатов и симуляции"
   ]
  },
  {
   "cell_type": "code",
   "execution_count": 9,
   "id": "1a189e78",
   "metadata": {},
   "outputs": [
    {
     "data": {
      "image/png": "[encoded data removed]",
      "text/plain": [
       "<Figure size 640x480 with 1 Axes>"
      ]
     },
     "metadata": {},
     "output_type": "display_data"
    },
    {
     "data": {
      "image/png": "[encoded data removed]",
      "text/plain": [
       "<Figure size 640x480 with 1 Axes>"
      ]
     },
     "metadata": {},
     "output_type": "display_data"
    }
   ],
   "source": [
    "import matplotlib.pyplot as plt\n",
    "\n",
    "plt.bar(range(len(p_list)), p_list)\n",
    "plt.title('Вероятности состояния системы, полученные аналитечески')\n",
    "plt.show()\n",
    "\n",
    "plt.bar(range(len(channel_probabilities)), channel_probabilities)\n",
    "plt.title('Вероятности состояния системы, полученные симуляцией')\n",
    "plt.show()"
   ]
  },
  {
   "cell_type": "code",
   "execution_count": null,
   "id": "13e3e268",
   "metadata": {},
   "outputs": [],
   "source": []
  }
 ],
 "metadata": {
  "kernelspec": {
   "display_name": "Python 3 (ipykernel)",
   "language": "python",
   "name": "python3"
  },
  "language_info": {
   "codemirror_mode": {
    "name": "ipython",
    "version": 3
   },
   "file_extension": ".py",
   "mimetype": "text/x-python",
   "name": "python",
   "nbconvert_exporter": "python",
   "pygments_lexer": "ipython3",
   "version": "3.10.12"
  }
 },
 "nbformat": 4,
 "nbformat_minor": 5
}
