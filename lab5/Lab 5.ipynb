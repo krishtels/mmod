{
 "cells": [
  {
   "cell_type": "markdown",
   "id": "76b93b92",
   "metadata": {},
   "source": [
    "# Лабораторная работа №5. Сети Петри"
   ]
  },
  {
   "cell_type": "code",
   "execution_count": 1,
   "id": "fa5d8e9f",
   "metadata": {},
   "outputs": [],
   "source": [
    "import random\n",
    "from itertools import combinations\n"
   ]
  },
  {
   "cell_type": "markdown",
   "id": "386c0f77",
   "metadata": {},
   "source": [
    "## Имитационная модель сети Петри"
   ]
  },
  {
   "cell_type": "code",
   "execution_count": 46,
   "id": "eb8fde82",
   "metadata": {},
   "outputs": [],
   "source": [
    "class PetriNet:\n",
    "    def __init__(self, transitions, marking):\n",
    "        self.places = list([Place(m, i) for i, m in enumerate(marking)])\n",
    "        self.transitions = list([\n",
    "            Transition(\n",
    "                [OutArc(self.places[i]) for i in outs],\n",
    "                [InArc(self.places[i]) for i in ins])\n",
    "            for outs, ins in transitions\n",
    "        ])\n",
    "        self.finished = False\n",
    "        self.markings = [self.get_marking()]\n",
    "\n",
    "\n",
    "    def get_marking(self):\n",
    "        return [x.holding for x in self.places]\n",
    "\n",
    "    def run(self, info=False):\n",
    "        i = 0\n",
    "        while not self.finished and i < 25:\n",
    "            current_marking = self._run_once(info)\n",
    "            if not current_marking:\n",
    "                self.finished = True\n",
    "                break\n",
    "            yield current_marking\n",
    "            i += 1\n",
    "\n",
    "    def _run_once(self, info):\n",
    "        fired_transitions = set()\n",
    "        while len(fired_transitions) < len(self.transitions):\n",
    "            t_num = random.randint(0, len(self.transitions) - 1)\n",
    "            t = self.transitions[t_num]\n",
    "            if t.fire():\n",
    "                if info:\n",
    "                    # display_table([t_num, t, self.get_marking()])\n",
    "                    display_table([[str(t_num), str(t), str(self.get_marking())]])\n",
    "                    # print(\n",
    "                    #     f\"Firing transition {t_num}: {t} \\tMarking {self.get_marking()}\")\n",
    "                    # print(f\"Current marking {self.get_marking()}\")\n",
    "                return self.get_marking()\n",
    "            else:\n",
    "                fired_transitions.add(t_num)\n",
    "        return None\n",
    "    \n",
    "  "
   ]
  },
  {
   "cell_type": "code",
   "execution_count": 2,
   "id": "03e22a4c",
   "metadata": {},
   "outputs": [],
   "source": [
    "class Transition:\n",
    "    def __init__(self, out_arcs, in_arcs):\n",
    "        self.out_arcs = set(out_arcs)\n",
    "        self.in_arcs = set(in_arcs)\n",
    "        self.arcs = self.out_arcs.union(in_arcs)\n",
    "        # print(f\"Out arcs: {self.out_arcs}\\nIn arcs: {self.in_arcs}\")\n",
    "        # print(f\"Arcs: {self.arcs}\")\n",
    "\n",
    "    def fire(self):\n",
    "        if self.not_blocked():\n",
    "            for arc in self.arcs:\n",
    "                arc.trigger()\n",
    "            return True\n",
    "        return False\n",
    "\n",
    "    def not_blocked(self):\n",
    "        return all(arc.non_blocking() for arc in self.out_arcs)\n",
    "\n",
    "    def get_out_arc(self, place):\n",
    "        return [a for a in self.out_arcs if a.place == place][0]\n",
    "\n",
    "    def get_in_arc(self, place):\n",
    "        return [a for a in self.in_arcs if a.place == place][0]\n",
    "\n",
    "    def __str__(self):\n",
    "        return f\"{list(self.out_arcs)} -> {list(self.in_arcs)}\"\n",
    "\n",
    "    __repr__ = __str__\n"
   ]
  },
  {
   "cell_type": "code",
   "execution_count": 3,
   "id": "d9b222f9",
   "metadata": {},
   "outputs": [],
   "source": [
    "class Place:\n",
    "    def __init__(self, holding, id=None):\n",
    "        self.holding = holding\n",
    "        self.id = id\n",
    "\n",
    "    def __str__(self):\n",
    "        return f\"#{self.id+1}({self.holding})\"\n",
    "\n",
    "    __repr__ = __str__\n"
   ]
  },
  {
   "cell_type": "code",
   "execution_count": 4,
   "id": "37b04aeb",
   "metadata": {},
   "outputs": [],
   "source": [
    "class Arc:\n",
    "    def __init__(self, place: Place, amount=1):\n",
    "        self.place = place\n",
    "        self.amount = amount\n",
    "\n",
    "    def __str__(self):\n",
    "        return f\"{self.place}\" + (f\"[{self.amount}]\" if self.amount > 1 else \"\")\n",
    "\n",
    "    __repr__ = __str__\n"
   ]
  },
  {
   "cell_type": "code",
   "execution_count": 5,
   "id": "de9ddfde",
   "metadata": {},
   "outputs": [],
   "source": [
    "class OutArc(Arc):\n",
    "    def trigger(self):\n",
    "        self.place.holding -= self.amount\n",
    "\n",
    "    def non_blocking(self):\n",
    "        return self.place.holding >= self.amount\n"
   ]
  },
  {
   "cell_type": "code",
   "execution_count": 6,
   "id": "9d120d83",
   "metadata": {},
   "outputs": [],
   "source": [
    "class InArc(Arc):\n",
    "    def trigger(self):\n",
    "        self.place.holding += self.amount\n"
   ]
  },
  {
   "cell_type": "markdown",
   "id": "327ddb56",
   "metadata": {},
   "source": [
    "![](1.png)"
   ]
  },
  {
   "cell_type": "code",
   "execution_count": 9,
   "id": "acd879ae",
   "metadata": {},
   "outputs": [],
   "source": [
    "# 1\n",
    "marking1 = [0, 0, 1, 1, 0]\n",
    "transitions1 = [\n",
    "    ([3], [0]),\n",
    "    ([2], [1]),\n",
    "    ([0, 1], [2, 3]),\n",
    "    ([3], [4])\n",
    "]"
   ]
  },
  {
   "cell_type": "markdown",
   "id": "6e43c69f",
   "metadata": {},
   "source": [
    "![](2.png)"
   ]
  },
  {
   "cell_type": "code",
   "execution_count": 10,
   "id": "f12ad04e",
   "metadata": {},
   "outputs": [],
   "source": [
    "# 2\n",
    "marking2 = [1, 0, 0, 0, 0, 1]\n",
    "transitions2 = [\n",
    "    ([0], [1, 2, 5]),\n",
    "    ([1], [3]),\n",
    "    ([2], [4]),\n",
    "    ([3, 4, 5], [0])\n",
    "]"
   ]
  },
  {
   "cell_type": "markdown",
   "id": "087a3657",
   "metadata": {},
   "source": [
    "## Характеристики сети Петри\n",
    "\n",
    "### Ограниченность (существует макс кол-во ресурсов в сети)"
   ]
  },
  {
   "cell_type": "code",
   "execution_count": 11,
   "id": "0427f520",
   "metadata": {},
   "outputs": [],
   "source": [
    "def bounded_with(net: PetriNet):\n",
    "    markings = [net.get_marking()]\n",
    "    markings += [m for m in net.run()]\n",
    "    return max([max(m) for m in markings])\n"
   ]
  },
  {
   "cell_type": "markdown",
   "id": "ecc9fab2",
   "metadata": {},
   "source": [
    "Если максимальное значение разметки является конечным числом, то это означает, что сеть ограничена. Если максимальное значение разметки равно бесконечности (или если сеть не завершает свою работу), то сеть считается неограниченной."
   ]
  },
  {
   "cell_type": "markdown",
   "id": "db282aed",
   "metadata": {},
   "source": [
    "### Безопасность"
   ]
  },
  {
   "cell_type": "code",
   "execution_count": 30,
   "id": "7ebfb3bd",
   "metadata": {},
   "outputs": [],
   "source": [
    "def is_safe(net: PetriNet):\n",
    "    return bounded_with(net) == 1\n"
   ]
  },
  {
   "cell_type": "markdown",
   "id": "37f16b38",
   "metadata": {},
   "source": [
    "### Консервативность \n",
    "(общее количество ресурсов в сети остается постоянным во времени и не меняется при выполнении переходов)"
   ]
  },
  {
   "cell_type": "code",
   "execution_count": 13,
   "id": "1fa403cb",
   "metadata": {},
   "outputs": [],
   "source": [
    "def is_conservative(net: PetriNet):\n",
    "    s0 = sum(net.get_marking())\n",
    "    for marking in net.run():\n",
    "        s = sum(marking)\n",
    "        if s != s0:\n",
    "            return False\n",
    "    return True\n"
   ]
  },
  {
   "cell_type": "markdown",
   "id": "28ebdbdc",
   "metadata": {},
   "source": [
    "### Живая / не живая"
   ]
  },
  {
   "cell_type": "code",
   "execution_count": 16,
   "id": "f82aa5d0",
   "metadata": {},
   "outputs": [],
   "source": [
    "def is_alive(net: PetriNet):\n",
    "    for _ in net.run():\n",
    "        pass\n",
    "    return not net.finished\n"
   ]
  },
  {
   "cell_type": "markdown",
   "id": "e42fe670",
   "metadata": {},
   "source": [
    "### Параллельность"
   ]
  },
  {
   "cell_type": "code",
   "execution_count": 17,
   "id": "d278e285",
   "metadata": {},
   "outputs": [],
   "source": [
    "def check_parralel(net: PetriNet):\n",
    "    not_blocked_ts = [t for t in net.transitions if t.not_blocked()]\n",
    "    if len(not_blocked_ts) <= 1:\n",
    "        return False\n",
    "    for t1, t2 in combinations(not_blocked_ts, 2):\n",
    "        places1 = set(place for place in t1.out_arcs)\n",
    "        places2 = set(place for place in t2.out_arcs)\n",
    "        if places1 != places2:\n",
    "            return True\n",
    "        mutual_places = places1.intersection(places2)\n",
    "        if all(p.holding >= t1.get_out_arc(p).amount + t2.get_out_arc(p).amount for p in mutual_places):\n",
    "            return True\n",
    "    return False\n",
    "\n",
    "\n",
    "def is_parallel(net: PetriNet):\n",
    "    if check_parralel(net):\n",
    "        return True\n",
    "    for _ in net.run():\n",
    "        if check_parralel(net):\n",
    "            return True\n",
    "    return False\n"
   ]
  },
  {
   "cell_type": "markdown",
   "id": "e8bec75b",
   "metadata": {},
   "source": [
    "### Свободного выбора\n",
    "В сетях свободного выбора существует возможность выбрать, какие переходы активировать, не ограничиваясь одним конкретным порядком"
   ]
  },
  {
   "cell_type": "code",
   "execution_count": 18,
   "id": "3ba475b6",
   "metadata": {},
   "outputs": [],
   "source": [
    "def is_free_choice(net: PetriNet):\n",
    "    for t1, t2 in combinations(net.transitions, 2):\n",
    "        places1 = set(arc.place for arc in t1.out_arcs)\n",
    "        places2 = set(arc.place for arc in t2.out_arcs)\n",
    "        if places1.intersection(places2):\n",
    "            return True\n",
    "    return False"
   ]
  },
  {
   "cell_type": "markdown",
   "id": "d48ecbe3",
   "metadata": {},
   "source": [
    "### Маркированная\n",
    "В маркированной сети каждое место имеет ровно одну входную и одну выходную дугу."
   ]
  },
  {
   "cell_type": "code",
   "execution_count": 19,
   "id": "30005977",
   "metadata": {},
   "outputs": [],
   "source": [
    "def is_marked(net: PetriNet):\n",
    "    for place in net.places:\n",
    "        in_arcs = [a for t in net.transitions\n",
    "                   for a in t.in_arcs if a.place == place]\n",
    "        out_arcs = [a for t in net.transitions\n",
    "                    for a in t.out_arcs if a.place == place]\n",
    "        if len(out_arcs) != len(in_arcs) != 1:\n",
    "            return False\n",
    "    return True\n"
   ]
  },
  {
   "cell_type": "markdown",
   "id": "29266c12",
   "metadata": {},
   "source": [
    "### Табличное представление"
   ]
  },
  {
   "cell_type": "code",
   "execution_count": 33,
   "id": "20e5b6ca",
   "metadata": {},
   "outputs": [
    {
     "data": {
      "text/html": [
       "<table><tr><td><h4>Описание</h4></td><td><h4>Схема 1</h4></td><td><h4>Схема 2</h4></td></tr><tr><td><h4>Ограниченость</h4></td><td><h4>1</h4></td><td><h4>2</h4></td></tr><tr><td><h4>Безопастность</h4></td><td><h4>True</h4></td><td><h4>False</h4></td></tr><tr><td><h4>Консервативность</h4></td><td><h4>True</h4></td><td><h4>False</h4></td></tr><tr><td><h4>Живая</h4></td><td><h4>False</h4></td><td><h4>True</h4></td></tr><tr><td><h4>Параллельность</h4></td><td><h4>True</h4></td><td><h4>True</h4></td></tr><tr><td><h4>Свободного выбора</h4></td><td><h4>True</h4></td><td><h4>False</h4></td></tr><tr><td><h4>Маркированная</h4></td><td><h4>True</h4></td><td><h4>True</h4></td></tr></table>"
      ],
      "text/plain": [
       "<IPython.core.display.HTML object>"
      ]
     },
     "metadata": {},
     "output_type": "display_data"
    }
   ],
   "source": [
    "from IPython.display import HTML, display\n",
    "\n",
    "\n",
    "def display_table(data):\n",
    "    html = \"<table>\"\n",
    "    for row in data:\n",
    "        html += \"<tr>\"\n",
    "        for field in row:\n",
    "            html += \"<td><h4>%s</h4></td>\" % (field)\n",
    "        html += \"</tr>\"\n",
    "    html += \"</table>\"\n",
    "    display(HTML(html))\n",
    "\n",
    "\n",
    "data = [['Описание', 'Схема 1', 'Схема 2'],\n",
    "        ['Ограниченость', bounded_with(PetriNet(transitions1, marking1)), bounded_with(\n",
    "            PetriNet(transitions2, marking2))],\n",
    "        ['Безопастность', is_safe(PetriNet(transitions1, marking1)), is_safe(\n",
    "            PetriNet(transitions2, marking2))],\n",
    "        ['Консервативность', is_conservative(PetriNet(\n",
    "            transitions1, marking1)), is_conservative(PetriNet(transitions2, marking2))],\n",
    "        ['Живая', is_alive(PetriNet(transitions1, marking1)),\n",
    "         is_alive(PetriNet(transitions2, marking2))],\n",
    "        ['Параллельность', is_parallel(PetriNet(transitions1, marking1)), is_parallel(\n",
    "            PetriNet(transitions2, marking2))],\n",
    "        ['Свободного выбора', is_free_choice(PetriNet(transitions1, marking1)), \n",
    "            is_free_choice(PetriNet(transitions2, marking2))],\n",
    "        ['Маркированная', is_marked(PetriNet(transitions1, marking1)),\n",
    "         is_marked(PetriNet(transitions2, marking2))]]\n",
    "\n",
    "display_table(data)\n"
   ]
  },
  {
   "cell_type": "markdown",
   "id": "aa54ee4f",
   "metadata": {},
   "source": [
    "###  Сеть 1\n",
    "#### Классификация по динамическим ограничениям\n",
    "- 1- ограниченная, т.к. число маркеров в каждой позиции никогда не будет больше,чем 1.\n",
    "- безопасная, т.к. сеть – 1-ограниченная.\n",
    "- ограниченная, т.к. сеть – 1-ограниченная.\n",
    "- 1-консервативная, т.к. общее число маркеров постоянное.\n",
    "- консервативная, т.к. сеть – 1-консервативная.\n",
    "\n",
    "Сеть не является живой(активной), т.к. существует достижимая тупиковая маркировка, при которой все переходы будут заблокированы. Также сеть не является устойчивой, т.к.присутствуют переходы t1(a) и t4(d) и срабатывание одного из них приводит к снятиювозбуждения второго.\n",
    "\n",
    "#### Классификация по статическим ограничениям\n",
    "- сеть свободного выбора, т.к. позиция p4 единственна для переходов t1(a) и t4(d).\n",
    "- Сеть не является маркированным графом, т.к. есть позиции (p4, p5), которые не имеют ровно один входной и один выходной переходы. \n",
    "- Сеть не является автономной, т.к. существует переход t3(c), который содержит больше чем одну входную и больше чем одну выходную позиции. \n",
    "- Cеть не является бесконфликтной, т.к. позиция p4 является выходной позицией для двух переходов, для которых она не является входной.\n",
    "\n",
    "Для сети возможно параллельное срабатывание нескольких\n",
    "переходов"
   ]
  },
  {
   "cell_type": "markdown",
   "id": "e10b062f",
   "metadata": {},
   "source": [
    "### Сеть 2\n",
    "#### Классификация по динамическим ограничениям\n",
    "- 2-ограниченная, т.к. значение каждой позиции никогда не будет больше, чем 2.\n",
    "- ограниченная, т.к. сеть – 2-ограниченная.\n",
    "- живая(активная), т.к. нет достижимой тупиковой маркировки.\n",
    "- устойчивая, т.к. сеть – бесконфликтная, позиция имеет только один переход\n",
    "- Консервативная. Сеть не является консервативной, т.к количество ее маркеров изменяется\n",
    "- Сеть не является безопасной, т.к. она не 1-ограниченная. \n",
    "- Также сеть не является 1- консервативной, т.к. общее число маркеров непостоянное.\n",
    "\n",
    "#### Классификация по статическим ограничениям\n",
    "- маркированный граф, т.к. для каждой позиции существует ровно один входной и один выходной переходы.\n",
    "- бесконфликтная, т.к. каждая позиция является выходной для одного перехода.\n",
    "- Сеть не является автономной, т.к. существует переход t1, который содержит больше чем одну выходную позицию, и переход t4, который содержит больше чем одну входную позицию.\n",
    "\n",
    "Для сети возможно параллельное срабатывание нескольких\n",
    "переходов."
   ]
  },
  {
   "cell_type": "markdown",
   "id": "36fe813e",
   "metadata": {},
   "source": [
    "### Полное исследование сети #1\n",
    "\n",
    "![](1.png)"
   ]
  },
  {
   "cell_type": "code",
   "execution_count": 28,
   "id": "269f2494",
   "metadata": {},
   "outputs": [
    {
     "data": {
      "text/html": [
       "<table><tr><td><h4>Запуск</h4></td><td><h4>Переход</h4></td><td><h4>Обновленная маркировка</h4></td></tr></table>"
      ],
      "text/plain": [
       "<IPython.core.display.HTML object>"
      ]
     },
     "metadata": {},
     "output_type": "display_data"
    },
    {
     "data": {
      "text/html": [
       "<table><tr><td><h4>0</h4></td><td><h4>[#4(0)] -> [#1(1)]</h4></td><td><h4>[1, 0, 1, 0, 0]</h4></td></tr></table>"
      ],
      "text/plain": [
       "<IPython.core.display.HTML object>"
      ]
     },
     "metadata": {},
     "output_type": "display_data"
    },
    {
     "data": {
      "text/html": [
       "<table><tr><td><h4>1</h4></td><td><h4>[#3(0)] -> [#2(1)]</h4></td><td><h4>[1, 1, 0, 0, 0]</h4></td></tr></table>"
      ],
      "text/plain": [
       "<IPython.core.display.HTML object>"
      ]
     },
     "metadata": {},
     "output_type": "display_data"
    },
    {
     "data": {
      "text/html": [
       "<table><tr><td><h4>2</h4></td><td><h4>[#1(0), #2(0)] -> [#3(1), #4(1)]</h4></td><td><h4>[0, 0, 1, 1, 0]</h4></td></tr></table>"
      ],
      "text/plain": [
       "<IPython.core.display.HTML object>"
      ]
     },
     "metadata": {},
     "output_type": "display_data"
    },
    {
     "data": {
      "text/html": [
       "<table><tr><td><h4>0</h4></td><td><h4>[#4(0)] -> [#1(1)]</h4></td><td><h4>[1, 0, 1, 0, 0]</h4></td></tr></table>"
      ],
      "text/plain": [
       "<IPython.core.display.HTML object>"
      ]
     },
     "metadata": {},
     "output_type": "display_data"
    },
    {
     "data": {
      "text/html": [
       "<table><tr><td><h4>1</h4></td><td><h4>[#3(0)] -> [#2(1)]</h4></td><td><h4>[1, 1, 0, 0, 0]</h4></td></tr></table>"
      ],
      "text/plain": [
       "<IPython.core.display.HTML object>"
      ]
     },
     "metadata": {},
     "output_type": "display_data"
    },
    {
     "data": {
      "text/html": [
       "<table><tr><td><h4>2</h4></td><td><h4>[#1(0), #2(0)] -> [#3(1), #4(1)]</h4></td><td><h4>[0, 0, 1, 1, 0]</h4></td></tr></table>"
      ],
      "text/plain": [
       "<IPython.core.display.HTML object>"
      ]
     },
     "metadata": {},
     "output_type": "display_data"
    },
    {
     "data": {
      "text/html": [
       "<table><tr><td><h4>3</h4></td><td><h4>[#4(0)] -> [#5(1)]</h4></td><td><h4>[0, 0, 1, 0, 1]</h4></td></tr></table>"
      ],
      "text/plain": [
       "<IPython.core.display.HTML object>"
      ]
     },
     "metadata": {},
     "output_type": "display_data"
    },
    {
     "data": {
      "text/html": [
       "<table><tr><td><h4>1</h4></td><td><h4>[#3(0)] -> [#2(1)]</h4></td><td><h4>[0, 1, 0, 0, 1]</h4></td></tr></table>"
      ],
      "text/plain": [
       "<IPython.core.display.HTML object>"
      ]
     },
     "metadata": {},
     "output_type": "display_data"
    }
   ],
   "source": [
    "def net1():\n",
    "    return PetriNet(transitions1, marking1)\n",
    "\n",
    "display_table([[\"Запуск\",\"Переход\",\"Обновленная маркировка\"]])\n",
    "\n",
    "for _ in net1().run(info=True):\n",
    "    pass\n"
   ]
  },
  {
   "cell_type": "markdown",
   "id": "e791488f",
   "metadata": {},
   "source": [
    "### Полное исследование сети #2\n",
    "\n",
    "![](2.png)"
   ]
  },
  {
   "cell_type": "code",
   "execution_count": 29,
   "id": "11d219b2",
   "metadata": {
    "scrolled": false
   },
   "outputs": [
    {
     "name": "stdout",
     "output_type": "stream",
     "text": [
      "\n"
     ]
    },
    {
     "data": {
      "text/html": [
       "<table><tr><td><h4>Запуск</h4></td><td><h4>Переход</h4></td><td><h4>Обновленная маркировка</h4></td></tr></table>"
      ],
      "text/plain": [
       "<IPython.core.display.HTML object>"
      ]
     },
     "metadata": {},
     "output_type": "display_data"
    },
    {
     "data": {
      "text/html": [
       "<table><tr><td><h4>0</h4></td><td><h4>[#1(0)] -> [#3(1), #6(2), #2(1)]</h4></td><td><h4>[0, 1, 1, 0, 0, 2]</h4></td></tr></table>"
      ],
      "text/plain": [
       "<IPython.core.display.HTML object>"
      ]
     },
     "metadata": {},
     "output_type": "display_data"
    },
    {
     "data": {
      "text/html": [
       "<table><tr><td><h4>2</h4></td><td><h4>[#3(0)] -> [#5(1)]</h4></td><td><h4>[0, 1, 0, 0, 1, 2]</h4></td></tr></table>"
      ],
      "text/plain": [
       "<IPython.core.display.HTML object>"
      ]
     },
     "metadata": {},
     "output_type": "display_data"
    },
    {
     "data": {
      "text/html": [
       "<table><tr><td><h4>1</h4></td><td><h4>[#2(0)] -> [#4(1)]</h4></td><td><h4>[0, 0, 0, 1, 1, 2]</h4></td></tr></table>"
      ],
      "text/plain": [
       "<IPython.core.display.HTML object>"
      ]
     },
     "metadata": {},
     "output_type": "display_data"
    },
    {
     "data": {
      "text/html": [
       "<table><tr><td><h4>3</h4></td><td><h4>[#5(0), #6(1), #4(0)] -> [#1(1)]</h4></td><td><h4>[1, 0, 0, 0, 0, 1]</h4></td></tr></table>"
      ],
      "text/plain": [
       "<IPython.core.display.HTML object>"
      ]
     },
     "metadata": {},
     "output_type": "display_data"
    },
    {
     "data": {
      "text/html": [
       "<table><tr><td><h4>0</h4></td><td><h4>[#1(0)] -> [#3(1), #6(2), #2(1)]</h4></td><td><h4>[0, 1, 1, 0, 0, 2]</h4></td></tr></table>"
      ],
      "text/plain": [
       "<IPython.core.display.HTML object>"
      ]
     },
     "metadata": {},
     "output_type": "display_data"
    },
    {
     "data": {
      "text/html": [
       "<table><tr><td><h4>1</h4></td><td><h4>[#2(0)] -> [#4(1)]</h4></td><td><h4>[0, 0, 1, 1, 0, 2]</h4></td></tr></table>"
      ],
      "text/plain": [
       "<IPython.core.display.HTML object>"
      ]
     },
     "metadata": {},
     "output_type": "display_data"
    },
    {
     "data": {
      "text/html": [
       "<table><tr><td><h4>2</h4></td><td><h4>[#3(0)] -> [#5(1)]</h4></td><td><h4>[0, 0, 0, 1, 1, 2]</h4></td></tr></table>"
      ],
      "text/plain": [
       "<IPython.core.display.HTML object>"
      ]
     },
     "metadata": {},
     "output_type": "display_data"
    },
    {
     "data": {
      "text/html": [
       "<table><tr><td><h4>3</h4></td><td><h4>[#5(0), #6(1), #4(0)] -> [#1(1)]</h4></td><td><h4>[1, 0, 0, 0, 0, 1]</h4></td></tr></table>"
      ],
      "text/plain": [
       "<IPython.core.display.HTML object>"
      ]
     },
     "metadata": {},
     "output_type": "display_data"
    },
    {
     "data": {
      "text/html": [
       "<table><tr><td><h4>0</h4></td><td><h4>[#1(0)] -> [#3(1), #6(2), #2(1)]</h4></td><td><h4>[0, 1, 1, 0, 0, 2]</h4></td></tr></table>"
      ],
      "text/plain": [
       "<IPython.core.display.HTML object>"
      ]
     },
     "metadata": {},
     "output_type": "display_data"
    },
    {
     "data": {
      "text/html": [
       "<table><tr><td><h4>2</h4></td><td><h4>[#3(0)] -> [#5(1)]</h4></td><td><h4>[0, 1, 0, 0, 1, 2]</h4></td></tr></table>"
      ],
      "text/plain": [
       "<IPython.core.display.HTML object>"
      ]
     },
     "metadata": {},
     "output_type": "display_data"
    },
    {
     "data": {
      "text/html": [
       "<table><tr><td><h4>1</h4></td><td><h4>[#2(0)] -> [#4(1)]</h4></td><td><h4>[0, 0, 0, 1, 1, 2]</h4></td></tr></table>"
      ],
      "text/plain": [
       "<IPython.core.display.HTML object>"
      ]
     },
     "metadata": {},
     "output_type": "display_data"
    },
    {
     "data": {
      "text/html": [
       "<table><tr><td><h4>3</h4></td><td><h4>[#5(0), #6(1), #4(0)] -> [#1(1)]</h4></td><td><h4>[1, 0, 0, 0, 0, 1]</h4></td></tr></table>"
      ],
      "text/plain": [
       "<IPython.core.display.HTML object>"
      ]
     },
     "metadata": {},
     "output_type": "display_data"
    },
    {
     "data": {
      "text/html": [
       "<table><tr><td><h4>0</h4></td><td><h4>[#1(0)] -> [#3(1), #6(2), #2(1)]</h4></td><td><h4>[0, 1, 1, 0, 0, 2]</h4></td></tr></table>"
      ],
      "text/plain": [
       "<IPython.core.display.HTML object>"
      ]
     },
     "metadata": {},
     "output_type": "display_data"
    },
    {
     "data": {
      "text/html": [
       "<table><tr><td><h4>1</h4></td><td><h4>[#2(0)] -> [#4(1)]</h4></td><td><h4>[0, 0, 1, 1, 0, 2]</h4></td></tr></table>"
      ],
      "text/plain": [
       "<IPython.core.display.HTML object>"
      ]
     },
     "metadata": {},
     "output_type": "display_data"
    },
    {
     "data": {
      "text/html": [
       "<table><tr><td><h4>2</h4></td><td><h4>[#3(0)] -> [#5(1)]</h4></td><td><h4>[0, 0, 0, 1, 1, 2]</h4></td></tr></table>"
      ],
      "text/plain": [
       "<IPython.core.display.HTML object>"
      ]
     },
     "metadata": {},
     "output_type": "display_data"
    },
    {
     "data": {
      "text/html": [
       "<table><tr><td><h4>3</h4></td><td><h4>[#5(0), #6(1), #4(0)] -> [#1(1)]</h4></td><td><h4>[1, 0, 0, 0, 0, 1]</h4></td></tr></table>"
      ],
      "text/plain": [
       "<IPython.core.display.HTML object>"
      ]
     },
     "metadata": {},
     "output_type": "display_data"
    },
    {
     "data": {
      "text/html": [
       "<table><tr><td><h4>0</h4></td><td><h4>[#1(0)] -> [#3(1), #6(2), #2(1)]</h4></td><td><h4>[0, 1, 1, 0, 0, 2]</h4></td></tr></table>"
      ],
      "text/plain": [
       "<IPython.core.display.HTML object>"
      ]
     },
     "metadata": {},
     "output_type": "display_data"
    },
    {
     "data": {
      "text/html": [
       "<table><tr><td><h4>1</h4></td><td><h4>[#2(0)] -> [#4(1)]</h4></td><td><h4>[0, 0, 1, 1, 0, 2]</h4></td></tr></table>"
      ],
      "text/plain": [
       "<IPython.core.display.HTML object>"
      ]
     },
     "metadata": {},
     "output_type": "display_data"
    },
    {
     "data": {
      "text/html": [
       "<table><tr><td><h4>2</h4></td><td><h4>[#3(0)] -> [#5(1)]</h4></td><td><h4>[0, 0, 0, 1, 1, 2]</h4></td></tr></table>"
      ],
      "text/plain": [
       "<IPython.core.display.HTML object>"
      ]
     },
     "metadata": {},
     "output_type": "display_data"
    },
    {
     "data": {
      "text/html": [
       "<table><tr><td><h4>3</h4></td><td><h4>[#5(0), #6(1), #4(0)] -> [#1(1)]</h4></td><td><h4>[1, 0, 0, 0, 0, 1]</h4></td></tr></table>"
      ],
      "text/plain": [
       "<IPython.core.display.HTML object>"
      ]
     },
     "metadata": {},
     "output_type": "display_data"
    },
    {
     "data": {
      "text/html": [
       "<table><tr><td><h4>0</h4></td><td><h4>[#1(0)] -> [#3(1), #6(2), #2(1)]</h4></td><td><h4>[0, 1, 1, 0, 0, 2]</h4></td></tr></table>"
      ],
      "text/plain": [
       "<IPython.core.display.HTML object>"
      ]
     },
     "metadata": {},
     "output_type": "display_data"
    },
    {
     "data": {
      "text/html": [
       "<table><tr><td><h4>1</h4></td><td><h4>[#2(0)] -> [#4(1)]</h4></td><td><h4>[0, 0, 1, 1, 0, 2]</h4></td></tr></table>"
      ],
      "text/plain": [
       "<IPython.core.display.HTML object>"
      ]
     },
     "metadata": {},
     "output_type": "display_data"
    },
    {
     "data": {
      "text/html": [
       "<table><tr><td><h4>2</h4></td><td><h4>[#3(0)] -> [#5(1)]</h4></td><td><h4>[0, 0, 0, 1, 1, 2]</h4></td></tr></table>"
      ],
      "text/plain": [
       "<IPython.core.display.HTML object>"
      ]
     },
     "metadata": {},
     "output_type": "display_data"
    },
    {
     "data": {
      "text/html": [
       "<table><tr><td><h4>3</h4></td><td><h4>[#5(0), #6(1), #4(0)] -> [#1(1)]</h4></td><td><h4>[1, 0, 0, 0, 0, 1]</h4></td></tr></table>"
      ],
      "text/plain": [
       "<IPython.core.display.HTML object>"
      ]
     },
     "metadata": {},
     "output_type": "display_data"
    },
    {
     "data": {
      "text/html": [
       "<table><tr><td><h4>0</h4></td><td><h4>[#1(0)] -> [#3(1), #6(2), #2(1)]</h4></td><td><h4>[0, 1, 1, 0, 0, 2]</h4></td></tr></table>"
      ],
      "text/plain": [
       "<IPython.core.display.HTML object>"
      ]
     },
     "metadata": {},
     "output_type": "display_data"
    }
   ],
   "source": [
    "def net2():\n",
    "    return PetriNet(transitions2, marking2)\n",
    "print()\n",
    "display_table([[\"Запуск\",\"Переход\",\"Обновленная маркировка\"]])\n",
    "for _ in net2().run(info=True):\n",
    "    pass\n",
    "\n"
   ]
  },
  {
   "cell_type": "markdown",
   "id": "b0a8e3f0",
   "metadata": {},
   "source": [
    "### Диаграмма маркировок сети 1\n",
    "![](3.png)\n",
    "\n",
    "#### Все возможные маркировки\n",
    "![](4.png)\n",
    "![](5.png)\n",
    "![](6.png)"
   ]
  },
  {
   "cell_type": "markdown",
   "id": "f257b743",
   "metadata": {},
   "source": [
    "### Диаграмма маркировок сети 2\n",
    "![](7.png)\n",
    "\n",
    "#### Все возможные маркировки\n",
    "![](8.png)\n",
    "![](9.png)\n",
    "![](10.png)"
   ]
  },
  {
   "cell_type": "code",
   "execution_count": null,
   "id": "bba77cdf",
   "metadata": {},
   "outputs": [],
   "source": []
  }
 ],
 "metadata": {
  "kernelspec": {
   "display_name": "Python 3 (ipykernel)",
   "language": "python",
   "name": "python3"
  },
  "language_info": {
   "codemirror_mode": {
    "name": "ipython",
    "version": 3
   },
   "file_extension": ".py",
   "mimetype": "text/x-python",
   "name": "python",
   "nbconvert_exporter": "python",
   "pygments_lexer": "ipython3",
   "version": "3.10.12"
  }
 },
 "nbformat": 4,
 "nbformat_minor": 5
}
