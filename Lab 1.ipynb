{
 "cells": [
  {
   "cell_type": "markdown",
   "id": "fb2204a8",
   "metadata": {},
   "source": [
    "### Лабораторная работа 1. Случайные события и их имитация"
   ]
  },
  {
   "cell_type": "code",
   "execution_count": 4,
   "id": "1a53fa2e",
   "metadata": {},
   "outputs": [],
   "source": [
    "import matplotlib.pyplot as plt\n",
    "import random"
   ]
  },
  {
   "cell_type": "code",
   "execution_count": 6,
   "id": "17c4b2d8",
   "metadata": {},
   "outputs": [],
   "source": [
    "# Линейный конгруэнтный метод \n",
    "class CustomGenerator:\n",
    "    seed = 42\n",
    "    alpha = 1664525\n",
    "    c = 1013904223\n",
    "    m = 2 ** 32\n",
    "    x_current = seed\n",
    "    \n",
    "    @staticmethod\n",
    "    def random():\n",
    "        CustomGenerator.x_current = (CustomGenerator.alpha * CustomGenerator.x_current + CustomGenerator.c) % CustomGenerator.m\n",
    "        return CustomGenerator.x_current / CustomGenerator.m"
   ]
  },
  {
   "cell_type": "code",
   "execution_count": 7,
   "id": "b3010ca0",
   "metadata": {},
   "outputs": [],
   "source": [
    "generator = CustomGenerator()\n",
    "num_samples = 10**6"
   ]
  },
  {
   "cell_type": "markdown",
   "id": "972b5ac0",
   "metadata": {},
   "source": [
    "#### Задание 1"
   ]
  },
  {
   "cell_type": "code",
   "execution_count": 13,
   "id": "db690877",
   "metadata": {},
   "outputs": [],
   "source": [
    "def task1(p):\n",
    "    return generator.random() < p"
   ]
  },
  {
   "cell_type": "code",
   "execution_count": 14,
   "id": "bd06061e",
   "metadata": {
    "scrolled": true
   },
   "outputs": [
    {
     "name": "stdout",
     "output_type": "stream",
     "text": [
      "Введите вероятность от 0 до 1\n",
      "0.2\n"
     ]
    }
   ],
   "source": [
    "custom_p = -1\n",
    "while not 0 <= custom_p <= 1:\n",
    "    custom_p = float(input(\"Введите вероятность от 0 до 1\\n\"))"
   ]
  },
  {
   "cell_type": "code",
   "execution_count": 15,
   "id": "a4824992",
   "metadata": {},
   "outputs": [
    {
     "name": "stdout",
     "output_type": "stream",
     "text": [
      "0.200558\n"
     ]
    }
   ],
   "source": [
    "count_true = sum(1 for _ in range(num_samples) if task1(custom_p))\n",
    "count_false = num_samples - count_true\n",
    "emperical_p = count_true / num_samples\n",
    "print(emperical_p)"
   ]
  },
  {
   "cell_type": "code",
   "execution_count": 16,
   "id": "b456295d",
   "metadata": {
    "scrolled": false
   },
   "outputs": [
    {
     "data": {
      "image/png": "[encoded data removed]",
      "text/plain": [
       "<Figure size 640x480 with 1 Axes>"
      ]
     },
     "metadata": {},
     "output_type": "display_data"
    }
   ],
   "source": [
    "labels = ['True', 'False']\n",
    "values = [count_true / num_samples, count_false / num_samples]\n",
    "\n",
    "plt.bar(labels, values)\n",
    "plt.xlabel('Результат')\n",
    "plt.ylabel('Процент')\n",
    "plt.show()"
   ]
  },
  {
   "cell_type": "markdown",
   "id": "4a438fe0",
   "metadata": {},
   "source": [
    "#### Задание 2"
   ]
  },
  {
   "cell_type": "code",
   "execution_count": 18,
   "id": "a9885280",
   "metadata": {},
   "outputs": [
    {
     "name": "stdout",
     "output_type": "stream",
     "text": [
      "input k:\n",
      "2\n"
     ]
    }
   ],
   "source": [
    "k = -1\n",
    "while not (1 <= k): \n",
    "    k = int(input(\"input k:\\n\"))"
   ]
  },
  {
   "cell_type": "code",
   "execution_count": 19,
   "id": "efa65869",
   "metadata": {
    "scrolled": true
   },
   "outputs": [
    {
     "name": "stdout",
     "output_type": "stream",
     "text": [
      "Введите вероятность от 0 до 1\n",
      "0.1\n",
      "Введите вероятность от 0 до 1\n",
      "0.3\n"
     ]
    }
   ],
   "source": [
    "probabilities = []\n",
    "\n",
    "for _ in range(k):   \n",
    "    probabilities.append(float(input(\"Введите вероятность от 0 до 1\\n\")))"
   ]
  },
  {
   "cell_type": "code",
   "execution_count": 26,
   "id": "19a431a6",
   "metadata": {},
   "outputs": [],
   "source": [
    "def task2(probabilities):\n",
    "    result = []\n",
    "    for i in range(len(probabilities)):\n",
    "        result.append(generator.random() < probabilities[i])\n",
    "    return result"
   ]
  },
  {
   "cell_type": "code",
   "execution_count": 27,
   "id": "9058cbc1",
   "metadata": {},
   "outputs": [],
   "source": [
    "count = [{True: 0, False: 0} for _ in range(len(probabilities))]\n",
    "\n",
    "for i in range(num_samples):\n",
    "    res = task2(probabilities)\n",
    "    for j in range(len(res)):\n",
    "        count[j][res[j]] += 1"
   ]
  },
  {
   "cell_type": "code",
   "execution_count": 35,
   "id": "f2fbd3fd",
   "metadata": {},
   "outputs": [
    {
     "name": "stdout",
     "output_type": "stream",
     "text": [
      "0.1004 0.300436\n"
     ]
    }
   ],
   "source": [
    "emperical_p = []\n",
    "for i in count:\n",
    "    emperical_p.append(i[True] / (i[True] + i[False]))\n",
    "print(*emperical_p)"
   ]
  },
  {
   "cell_type": "code",
   "execution_count": 42,
   "id": "36c3d33b",
   "metadata": {},
   "outputs": [
    {
     "data": {
      "image/png": "[encoded data removed]",
      "text/plain": [
       "<Figure size 640x480 with 1 Axes>"
      ]
     },
     "metadata": {},
     "output_type": "display_data"
    }
   ],
   "source": [
    "plt.bar([i for i in range(1, len(probabilities) + 1)], [count[i][True] / (count[i][True] + count[i][False]) for i in range(len(count))])\n",
    "\n",
    "plt.show()"
   ]
  },
  {
   "cell_type": "markdown",
   "id": "0744af21",
   "metadata": {},
   "source": [
    "#### Задание 3"
   ]
  },
  {
   "cell_type": "code",
   "execution_count": 46,
   "id": "8245dcf7",
   "metadata": {},
   "outputs": [
    {
     "name": "stdout",
     "output_type": "stream",
     "text": [
      "Введите вероятность P(A) от 0 до 1\n",
      "0.43\n"
     ]
    }
   ],
   "source": [
    "p_a = -1\n",
    "while not 0 <= p_a <= 1:\n",
    "    p_a = float(input(\"Введите вероятность P(A) от 0 до 1\\n\"))"
   ]
  },
  {
   "cell_type": "code",
   "execution_count": 47,
   "id": "db2d6bc0",
   "metadata": {},
   "outputs": [
    {
     "name": "stdout",
     "output_type": "stream",
     "text": [
      "Введите вероятность P(B/A) от 0 до 1\n",
      "0.53\n"
     ]
    }
   ],
   "source": [
    "p_b_a = -1\n",
    "while not 0 <= p_b_a <= 1:\n",
    "    p_b_a = float(input(\"Введите вероятность P(B/A) от 0 до 1\\n\"))"
   ]
  },
  {
   "cell_type": "code",
   "execution_count": 48,
   "id": "21111c25",
   "metadata": {},
   "outputs": [],
   "source": [
    "def task3(p_a, p_b_a):\n",
    "    p_ab = p_a * p_b_a\n",
    "    p_a_notb = p_a * (1 - p_b_a)\n",
    "    p_nota_b = (1 - p_a) * (1 - p_b_a)\n",
    "    p_nota_notb = p_b_a * (1 - p_a)\n",
    "\n",
    "    r = generator.random()\n",
    "    if r <= p_ab:\n",
    "        return 0\n",
    "    elif r <= p_a_notb + p_ab:\n",
    "        return 1\n",
    "    elif r <= p_a_notb + p_ab + p_nota_b:\n",
    "        return 2\n",
    "    elif r <= p_a_notb + p_ab + p_nota_b + p_nota_notb:\n",
    "        return 3"
   ]
  },
  {
   "cell_type": "code",
   "execution_count": 49,
   "id": "c27294d4",
   "metadata": {},
   "outputs": [],
   "source": [
    "count = {i: 0 for i in range(4)}\n",
    "\n",
    "for i in range(num_samples):\n",
    "    count[task3(p_a, p_b_a)] += 1"
   ]
  },
  {
   "cell_type": "code",
   "execution_count": 50,
   "id": "4a628c52",
   "metadata": {},
   "outputs": [
    {
     "data": {
      "image/png": "[encoded data removed]",
      "text/plain": [
       "<Figure size 640x480 with 1 Axes>"
      ]
     },
     "metadata": {},
     "output_type": "display_data"
    }
   ],
   "source": [
    "plt.bar([str(i) for i in range(4)], \n",
    "        [count[i] / num_samples for i in range(4)])\n",
    "plt.show()"
   ]
  },
  {
   "cell_type": "code",
   "execution_count": 51,
   "id": "5f3f7e45",
   "metadata": {},
   "outputs": [
    {
     "name": "stdout",
     "output_type": "stream",
     "text": [
      "0.228241 0.201992 0.267876 0.301891\n"
     ]
    }
   ],
   "source": [
    "emperical_p = [count[i] / num_samples for i in range(4)]\n",
    "print(*emperical_p)"
   ]
  },
  {
   "cell_type": "markdown",
   "id": "110b3163",
   "metadata": {},
   "source": [
    "#### Задание 4"
   ]
  },
  {
   "cell_type": "code",
   "execution_count": 52,
   "id": "e164fb6f",
   "metadata": {},
   "outputs": [
    {
     "name": "stdout",
     "output_type": "stream",
     "text": [
      "input k:\n",
      "4\n"
     ]
    }
   ],
   "source": [
    "k = -1\n",
    "while not (1 <= k): \n",
    "    k = int(input(\"input k:\\n\"))"
   ]
  },
  {
   "cell_type": "code",
   "execution_count": 53,
   "id": "4743fd3a",
   "metadata": {},
   "outputs": [
    {
     "name": "stdout",
     "output_type": "stream",
     "text": [
      "0.5\n",
      "0.2\n",
      "0.1\n",
      "0.2\n"
     ]
    }
   ],
   "source": [
    "probabilities = []\n",
    "\n",
    "while sum(probabilities) != 1:\n",
    "    for _ in range(k):\n",
    "        probabilities.append(float(input()))"
   ]
  },
  {
   "cell_type": "code",
   "execution_count": 8,
   "id": "0fadd17a",
   "metadata": {},
   "outputs": [],
   "source": [
    "def task4(probabilities):\n",
    "    s = probabilities[0]\n",
    "    step = 0\n",
    "    r = generator.random()\n",
    "    while True:\n",
    "        if r <= s:\n",
    "            return step\n",
    "        else:\n",
    "            step += 1\n",
    "            s += probabilities[step]"
   ]
  },
  {
   "cell_type": "code",
   "execution_count": 55,
   "id": "e02a4b3f",
   "metadata": {},
   "outputs": [],
   "source": [
    "count = {i: 0 for i in range(len(probabilities))}\n",
    "\n",
    "for i in range(num_samples):\n",
    "    count[task4(probabilities)] += 1"
   ]
  },
  {
   "cell_type": "code",
   "execution_count": 56,
   "id": "f0dbb30c",
   "metadata": {},
   "outputs": [
    {
     "name": "stdout",
     "output_type": "stream",
     "text": [
      "0.500107 0.199469 0.100146 0.200278\n"
     ]
    }
   ],
   "source": [
    "emperical_p = []\n",
    "for i in count:\n",
    "    emperical_p.append(count[i] / num_samples)\n",
    "print(*emperical_p)"
   ]
  },
  {
   "cell_type": "code",
   "execution_count": 57,
   "id": "d703c7fe",
   "metadata": {},
   "outputs": [
    {
     "data": {
      "image/png": "[encoded data removed]",
      "text/plain": [
       "<Figure size 640x480 with 1 Axes>"
      ]
     },
     "metadata": {},
     "output_type": "display_data"
    }
   ],
   "source": [
    "plt.bar([str(i) for i in range(len(count))], \n",
    "        [count[i] / num_samples for i in range(len(count))])\n",
    "plt.show()"
   ]
  },
  {
   "cell_type": "markdown",
   "id": "66faf7c8",
   "metadata": {},
   "source": [
    "#### Дополнительное задание 1"
   ]
  },
  {
   "cell_type": "code",
   "execution_count": 1,
   "id": "63921064",
   "metadata": {},
   "outputs": [
    {
     "name": "stdout",
     "output_type": "stream",
     "text": [
      "input k\n",
      "3\n"
     ]
    }
   ],
   "source": [
    "k = int(input(\"input k\\n\"))"
   ]
  },
  {
   "cell_type": "code",
   "execution_count": 2,
   "id": "eb9207a9",
   "metadata": {},
   "outputs": [
    {
     "name": "stdout",
     "output_type": "stream",
     "text": [
      "input rate of team number 1 \n",
      "10\n",
      "input rate of team number 2 \n",
      "30\n",
      "input rate of team number 3 \n",
      "50\n",
      "input rate of team number 4 \n",
      "20\n",
      "input rate of team number 5 \n",
      "10\n",
      "input rate of team number 6 \n",
      "40\n",
      "input rate of team number 7 \n",
      "60\n",
      "input rate of team number 8 \n",
      "35\n"
     ]
    }
   ],
   "source": [
    "rate = []\n",
    "\n",
    "for i in range(2 ** k):\n",
    "    rate.append(int(input(f\"input rate of team number {i + 1} \\n\")))"
   ]
  },
  {
   "cell_type": "code",
   "execution_count": 9,
   "id": "ff4f0264",
   "metadata": {},
   "outputs": [
    {
     "name": "stdout",
     "output_type": "stream",
     "text": [
      "\n",
      "round number 1\n",
      "team 8 vs team 7\n",
      "team number won - 8\n",
      "team 5 vs team 2\n",
      "team number won - 5\n",
      "team 4 vs team 6\n",
      "team number won - 6\n",
      "team 1 vs team 3\n",
      "team number won - 3\n",
      "move to the next round teams: 3, 5, 6, 8\n",
      "lose teams: 1, 2, 4, 7\n",
      "\n",
      "round number 2\n",
      "team 5 vs team 8\n",
      "team number won - 8\n",
      "team 3 vs team 6\n",
      "team number won - 3\n",
      "move to the next round teams: 3, 8\n",
      "lose teams: 5, 6\n",
      "\n",
      "round number 3\n",
      "team 3 vs team 8\n",
      "team number won - 3\n",
      "move to the next round teams: 3\n",
      "lose teams: 8\n",
      "\n",
      "\n",
      "winner - team 3\n"
     ]
    }
   ],
   "source": [
    "playing_teams = [i + 1 for i in range(2 ** k)]\n",
    "\n",
    "for i in range(k):\n",
    "    temp_live_temp = []\n",
    "    random.shuffle(playing_teams)\n",
    "    print(f'\\nround number {i + 1}')\n",
    "    \n",
    "    for j in range(2 ** (k - i - 1)):\n",
    "        first, second = j, 2 ** (k - i) - j - 1\n",
    "        print(f'team {playing_teams[first]} vs team {playing_teams[second]}')\n",
    "        common_rate = rate[playing_teams[first] - 1] + rate[playing_teams[second] - 1]\n",
    "        res = task4([rate[playing_teams[first] - 1] / common_rate, rate[playing_teams[second] - 1] / common_rate])\n",
    "        number_win = {0: playing_teams[j], 1: playing_teams[2 ** (k - i) - j - 1]}\n",
    "        print(f'team number won - {number_win[res]}')\n",
    "        temp_live_temp.append(number_win[res])\n",
    "    \n",
    "    move = ', '.join(map(str, sorted(temp_live_temp)))   \n",
    "    lose = ', '.join(map(str, sorted(set(playing_teams) - set(temp_live_temp))))\n",
    "    print(f'move to the next round teams: {move}')\n",
    "    print(f'lose teams: {lose}')\n",
    "    playing_teams = temp_live_temp\n",
    "\n",
    "print(f'\\n\\nwinner - team {playing_teams[0]}')"
   ]
  }
 ],
 "metadata": {
  "kernelspec": {
   "display_name": "Python 3 (ipykernel)",
   "language": "python",
   "name": "python3"
  },
  "language_info": {
   "codemirror_mode": {
    "name": "ipython",
    "version": 3
   },
   "file_extension": ".py",
   "mimetype": "text/x-python",
   "name": "python",
   "nbconvert_exporter": "python",
   "pygments_lexer": "ipython3",
   "version": "3.10.6"
  }
 },
 "nbformat": 4,
 "nbformat_minor": 5
}
